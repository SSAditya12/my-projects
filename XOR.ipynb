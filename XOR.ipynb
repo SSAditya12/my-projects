{
  "nbformat": 4,
  "nbformat_minor": 0,
  "metadata": {
    "colab": {
      "provenance": [],
      "authorship_tag": "ABX9TyPKgonI4YA9ujjnPXamP7hX",
      "include_colab_link": true
    },
    "kernelspec": {
      "name": "python3",
      "display_name": "Python 3"
    },
    "language_info": {
      "name": "python"
    }
  },
  "cells": [
    {
      "cell_type": "markdown",
      "metadata": {
        "id": "view-in-github",
        "colab_type": "text"
      },
      "source": [
        "<a href=\"https://colab.research.google.com/github/SSAditya12/my-projects/blob/main/XOR.ipynb\" target=\"_parent\"><img src=\"https://colab.research.google.com/assets/colab-badge.svg\" alt=\"Open In Colab\"/></a>"
      ]
    },
    {
      "cell_type": "code",
      "execution_count": null,
      "metadata": {
        "id": "Cu7ShMAPLfN0"
      },
      "outputs": [],
      "source": [
        "import numpy as np\n",
        "\n",
        "\n",
        "X = np.array([[0, 0], [0, 1], [1, 0], [1, 1]])\n",
        "Y = np.array([[0], [1], [1], [0]])\n",
        "\n"
      ]
    },
    {
      "cell_type": "code",
      "source": [
        "# Initialize weights and biases\n",
        "#np.random.seed(42)\n",
        "#w_hidden = np.random.randn(2, 2)  # 2x2 weight matrix for hidden layer\n",
        "#b_hidden = np.random.randn(1, 2)  # Bias for hidden layer\n",
        "#w_output = np.random.randn(2, 1)  # 2x1 weight matrix for output layer\n",
        "#b_output = np.random.randn(1, 1)  # Bias for output layer\n",
        "w_hidden = np.array([[-0.3, 0.5],[0.2, -0.6]])\n",
        "b_hidden = np.array([0.4, 0.3])\n",
        "w_output = np.array([[0.6],[-0.3]])\n",
        "b_output = np.array([0.1])\n",
        "w_hidden\n"
      ],
      "metadata": {
        "colab": {
          "base_uri": "https://localhost:8080/"
        },
        "id": "H8FR_Z0C3tyh",
        "outputId": "d3c3cba4-acf6-4426-cb1c-d039fd116f5d"
      },
      "execution_count": null,
      "outputs": [
        {
          "output_type": "execute_result",
          "data": {
            "text/plain": [
              "array([[-0.3,  0.5],\n",
              "       [ 0.2, -0.6]])"
            ]
          },
          "metadata": {},
          "execution_count": 64
        }
      ]
    },
    {
      "cell_type": "code",
      "source": [
        "b_hidden"
      ],
      "metadata": {
        "colab": {
          "base_uri": "https://localhost:8080/"
        },
        "id": "iSKKxr0k8rtc",
        "outputId": "2a705ba3-610b-4333-b256-0adbd05fd925"
      },
      "execution_count": null,
      "outputs": [
        {
          "output_type": "execute_result",
          "data": {
            "text/plain": [
              "array([0.4, 0.3])"
            ]
          },
          "metadata": {},
          "execution_count": 65
        }
      ]
    },
    {
      "cell_type": "code",
      "source": [],
      "metadata": {
        "id": "a2o5ncYU8w45"
      },
      "execution_count": null,
      "outputs": []
    },
    {
      "cell_type": "code",
      "source": [
        "# Activation functions\n",
        "def relu(x):\n",
        "    return np.maximum(0, x)\n",
        "\n",
        "def sigmoid(x):\n",
        "    return 1 / (1 + np.exp(-x))\n",
        "\n",
        "# Derivatives for backpropagation\n",
        "def relu_derivative(x):\n",
        "    return (x > 0).astype(float)\n",
        "\n",
        "def sigmoid_derivative(x):\n",
        "    return x * (1 - x)\n",
        "\n"
      ],
      "metadata": {
        "id": "uNG5ZG9T3xwk"
      },
      "execution_count": null,
      "outputs": []
    },
    {
      "cell_type": "code",
      "source": [
        "# Training the Neural Network\n",
        "learning_rate = 0.1\n",
        "epochs = 10000\n",
        "\n",
        "for epoch in range(epochs):\n",
        "    # Forward Pass\n",
        "    hidden_input = np.dot(X, w_hidden) + b_hidden  # Hidden layer input\n",
        "    hidden_output = relu(hidden_input)             # Hidden layer activation\n",
        "\n",
        "    final_input = np.dot(hidden_output, w_output) + b_output  # Output layer input\n",
        "    final_output = sigmoid(final_input)                       # Output layer activation\n",
        "\n",
        "hidden_input"
      ],
      "metadata": {
        "colab": {
          "base_uri": "https://localhost:8080/"
        },
        "id": "9Z46B7US32vr",
        "outputId": "034b4fd1-2f6c-4522-c07d-21ab4881d7a6"
      },
      "execution_count": null,
      "outputs": [
        {
          "output_type": "execute_result",
          "data": {
            "text/plain": [
              "array([[ 0.4,  0.3],\n",
              "       [ 0.6, -0.3],\n",
              "       [ 0.1,  0.8],\n",
              "       [ 0.3,  0.2]])"
            ]
          },
          "metadata": {},
          "execution_count": 66
        }
      ]
    },
    {
      "cell_type": "code",
      "source": [
        "hidden_output"
      ],
      "metadata": {
        "colab": {
          "base_uri": "https://localhost:8080/"
        },
        "id": "4aB_8XCA8_Ce",
        "outputId": "d82ca147-8564-4431-9200-a3ae411eaa50"
      },
      "execution_count": null,
      "outputs": [
        {
          "output_type": "execute_result",
          "data": {
            "text/plain": [
              "array([[0.4, 0.3],\n",
              "       [0.6, 0. ],\n",
              "       [0.1, 0.8],\n",
              "       [0.3, 0.2]])"
            ]
          },
          "metadata": {},
          "execution_count": 67
        }
      ]
    },
    {
      "cell_type": "code",
      "source": [
        "final_input"
      ],
      "metadata": {
        "colab": {
          "base_uri": "https://localhost:8080/"
        },
        "id": "YH-JcUcO9C6n",
        "outputId": "591dbf89-1080-472f-81a6-e3395156a673"
      },
      "execution_count": null,
      "outputs": [
        {
          "output_type": "execute_result",
          "data": {
            "text/plain": [
              "array([[ 0.25],\n",
              "       [ 0.46],\n",
              "       [-0.08],\n",
              "       [ 0.22]])"
            ]
          },
          "metadata": {},
          "execution_count": 68
        }
      ]
    },
    {
      "cell_type": "code",
      "source": [
        "final_output"
      ],
      "metadata": {
        "colab": {
          "base_uri": "https://localhost:8080/"
        },
        "id": "uLEojGGl9ICf",
        "outputId": "391fadc0-9c4d-4f41-e08f-19219ca717a4"
      },
      "execution_count": null,
      "outputs": [
        {
          "output_type": "execute_result",
          "data": {
            "text/plain": [
              "array([[0.5621765 ],\n",
              "       [0.61301418],\n",
              "       [0.48001066],\n",
              "       [0.55477924]])"
            ]
          },
          "metadata": {},
          "execution_count": 69
        }
      ]
    },
    {
      "cell_type": "code",
      "source": [
        "# Compute Loss (Binary Cross-Entropy)\n",
        "loss = -np.mean(Y * np.log(final_output) + (1 - Y) * np.log(1 - final_output))\n",
        "\n"
      ],
      "metadata": {
        "id": "X7A81MvN38SK"
      },
      "execution_count": null,
      "outputs": []
    },
    {
      "cell_type": "code",
      "source": [
        "loss"
      ],
      "metadata": {
        "colab": {
          "base_uri": "https://localhost:8080/"
        },
        "id": "Lqr4-IRt9MJL",
        "outputId": "93e02766-9d99-4267-84a0-0ac15749e87c"
      },
      "execution_count": null,
      "outputs": [
        {
          "output_type": "execute_result",
          "data": {
            "text/plain": [
              "0.7146096559053257"
            ]
          },
          "metadata": {},
          "execution_count": 70
        }
      ]
    },
    {
      "cell_type": "code",
      "source": [
        "   # Backpropagation\n",
        "error_output = final_output - Y  # Error at output\n",
        "gradient_output = error_output * sigmoid_derivative(final_output)  # Gradient for output layer\n",
        "\n",
        "error_hidden = np.dot(gradient_output, w_output.T)  # Error at hidden layer\n",
        "gradient_hidden = error_hidden * relu_derivative(hidden_output)  # Gradient for hidden layer\n",
        "\n"
      ],
      "metadata": {
        "id": "fuXZv18G3_ut"
      },
      "execution_count": null,
      "outputs": []
    },
    {
      "cell_type": "code",
      "source": [
        "error_output"
      ],
      "metadata": {
        "colab": {
          "base_uri": "https://localhost:8080/"
        },
        "id": "FukqJ0pF9QsT",
        "outputId": "cc26c38b-25c8-4cad-bb0a-2538b9072794"
      },
      "execution_count": null,
      "outputs": [
        {
          "output_type": "execute_result",
          "data": {
            "text/plain": [
              "array([[ 0.5621765 ],\n",
              "       [-0.38698582],\n",
              "       [-0.51998934],\n",
              "       [ 0.55477924]])"
            ]
          },
          "metadata": {},
          "execution_count": 71
        }
      ]
    },
    {
      "cell_type": "code",
      "source": [
        "gradient_output"
      ],
      "metadata": {
        "colab": {
          "base_uri": "https://localhost:8080/"
        },
        "id": "v_r8byPe9Xzd",
        "outputId": "904bc565-d9d1-4e0f-f658-5cf4d7f69c51"
      },
      "execution_count": null,
      "outputs": [
        {
          "output_type": "execute_result",
          "data": {
            "text/plain": [
              "array([[ 0.1383708 ],\n",
              "       [-0.09180379],\n",
              "       [-0.12978956],\n",
              "       [ 0.13703005]])"
            ]
          },
          "metadata": {},
          "execution_count": 72
        }
      ]
    },
    {
      "cell_type": "code",
      "source": [
        "error_hidden"
      ],
      "metadata": {
        "colab": {
          "base_uri": "https://localhost:8080/"
        },
        "id": "BXGdVY-69cnt",
        "outputId": "00653711-a254-4e19-fbe2-92f47afeb38a"
      },
      "execution_count": null,
      "outputs": [
        {
          "output_type": "execute_result",
          "data": {
            "text/plain": [
              "array([[ 0.08302248, -0.04151124],\n",
              "       [-0.05508228,  0.02754114],\n",
              "       [-0.07787374,  0.03893687],\n",
              "       [ 0.08221803, -0.04110901]])"
            ]
          },
          "metadata": {},
          "execution_count": 73
        }
      ]
    },
    {
      "cell_type": "code",
      "source": [
        "gradient_hidden"
      ],
      "metadata": {
        "colab": {
          "base_uri": "https://localhost:8080/"
        },
        "id": "ceI1MLnd9e5e",
        "outputId": "41f0456d-9166-4844-8fe3-185e676b3efd"
      },
      "execution_count": null,
      "outputs": [
        {
          "output_type": "execute_result",
          "data": {
            "text/plain": [
              "array([[ 0.08302248, -0.04151124],\n",
              "       [-0.05508228,  0.        ],\n",
              "       [-0.07787374,  0.03893687],\n",
              "       [ 0.08221803, -0.04110901]])"
            ]
          },
          "metadata": {},
          "execution_count": 74
        }
      ]
    },
    {
      "cell_type": "code",
      "source": [
        " # Update weights and biases\n",
        "w_output -= learning_rate * np.dot(hidden_output.T, gradient_output)\n",
        "b_output -= learning_rate * np.sum(gradient_output, axis=0, keepdims=False)\n",
        "\n",
        "w_hidden -= learning_rate * np.dot(X.T, gradient_hidden)\n",
        "b_hidden -= learning_rate * np.sum(gradient_hidden, axis=0, keepdims=False)\n",
        "\n",
        "\n"
      ],
      "metadata": {
        "id": "0wK9kwus4DJB"
      },
      "execution_count": null,
      "outputs": []
    },
    {
      "cell_type": "code",
      "source": [
        "w_output"
      ],
      "metadata": {
        "colab": {
          "base_uri": "https://localhost:8080/"
        },
        "id": "_bBu5-DA9oXZ",
        "outputId": "91677174-69b4-4388-e3bd-5be9066e7951"
      },
      "execution_count": null,
      "outputs": [
        {
          "output_type": "execute_result",
          "data": {
            "text/plain": [
              "array([[ 0.6],\n",
              "       [-0.3]])"
            ]
          },
          "metadata": {},
          "execution_count": 75
        }
      ]
    },
    {
      "cell_type": "code",
      "source": [
        "# Print loss every 1000 epochs\n",
        "if epoch % 100 == 0:\n",
        " print(f'Epoch {epoch}, Loss: {loss:.4f}')"
      ],
      "metadata": {
        "id": "_HWnRv6p4920"
      },
      "execution_count": null,
      "outputs": []
    },
    {
      "cell_type": "code",
      "source": [
        "\n",
        "# Test the trained model\n",
        "hidden_input = np.dot(X, w_hidden) + b_hidden\n",
        "hidden_output = relu(hidden_input)\n",
        "\n",
        "final_input = np.dot(hidden_output, w_output) + b_output\n",
        "final_output = sigmoid(final_input)\n",
        "\n",
        "print(\"\\nFinal Predictions:\")\n",
        "print(final_output.round())  # Rounds predictions to 0 or 1"
      ],
      "metadata": {
        "colab": {
          "base_uri": "https://localhost:8080/"
        },
        "id": "clvtXRQa4Gw_",
        "outputId": "bc4f9ca5-d383-4632-b0d2-669ebf1b2b4f"
      },
      "execution_count": null,
      "outputs": [
        {
          "output_type": "stream",
          "name": "stdout",
          "text": [
            "\n",
            "Final Predictions:\n",
            "[[1.]\n",
            " [1.]\n",
            " [0.]\n",
            " [1.]]\n"
          ]
        }
      ]
    }
  ]
}